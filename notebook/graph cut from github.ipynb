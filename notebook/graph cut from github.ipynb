{
 "cells": [
  {
   "cell_type": "markdown",
   "metadata": {},
   "source": [
    "**Image segmentation as a st-min cut problem :**\n",
    "- Graph with nodes:\n",
    "    - 1 source --> Foreground\n",
    "    - 1 sink --> Background\n",
    "    - Pixels\n",
    "- Edges :\n",
    "    - probability of i being background : -log(abs(I[i,j] - Ibmean)/(abs(I[i,j] - Ifmean)+abs(I[i,j] - Ibmean)))\n",
    "    - weight from sink to i: probabilty of i being background/sum of probabilities\n",
    "    - weight from source to i: probabilty of i being foreground/sum of probabilities\n",
    "    - Edges between two pixels : weight from i to a 4-neighbourhood pixel:\n",
    "                                K * e−|Ii−Ij|2 / s\n",
    "                                 where k and s are parameters that determine hwo close the neighboring pixels are how fast the values\n",
    "                                 decay towards zero with increasing dissimilarity  \n",
    "                                 --> care different cases for left (only right, top, pixels, right, top and bottom pixels\n",
    "--> Create the graph as it was in the other file\n",
    "\n",
    "--> Implement Ford Fulkerson graph cut to get the residential to get the min-cut.\n",
    "\n",
    "--> From the residual graph, you can get the min cut! Nodes can only be linked with the sink and not with the source, seek on this tomorrow"
   ]
  },
  {
   "cell_type": "code",
   "execution_count": null,
   "metadata": {},
   "outputs": [],
   "source": [
    "import cv2\n",
    "from PIL import Image\n",
    "import matplotlib.pyplot as plt\n",
    "import numpy as np\n",
    "%matplotlib inline\n",
    "\n",
    "gamma = 0.001\n",
    "fore = (225,142,279,185)\n",
    "back = (7,120,61,163)\n",
    "\n",
    "class Graph:\n",
    "    def __init__(self, sink_node):\n",
    "        self.source_node = sink_node-1\n",
    "        self.sink_node = sink_node\n",
    "        self.graph = np.zeros((sink_node+1, sink_node+1))\n",
    "        self.ROW = sink_node + 1\n",
    "    \n",
    "    def add_terminal_edge(self, node, source_weight, sink_weight):\n",
    "        self.graph[self.source_node][node] = source_weight\n",
    "        self.graph[node][self.sink_node] = sink_weight\n",
    "    \n",
    "    def add_edge(self, node1, node2, weight):\n",
    "        self.graph[node1][node2] = weight\n",
    "    \n",
    "    '''Returns true if there is a path from source 's' to sink 't' in \n",
    "    residual graph. Also fills parent[] to store the path '''\n",
    "    def BFS(self,s, t, parent): \n",
    "  \n",
    "        # Mark all the vertices as not visited \n",
    "        visited =[False]*(self.ROW) \n",
    "          \n",
    "        # Create a queue for BFS \n",
    "        queue=[] \n",
    "          \n",
    "        # Mark the source node as visited and enqueue it \n",
    "        queue.append(s) \n",
    "        visited[s] = True\n",
    "           \n",
    "         # Standard BFS Loop \n",
    "        while queue: \n",
    "  \n",
    "            #Dequeue a vertex from queue and print it\n",
    "            u = queue.pop(0) \n",
    "          \n",
    "            # Get all adjacent vertices of the dequeued vertex u \n",
    "            # If a adjacent has not been visited, then mark it \n",
    "            # visited and enqueue it \n",
    "            for ind, val in enumerate(self.graph[u]): \n",
    "                if visited[ind] == False and val > 0 : \n",
    "                    queue.append(ind) \n",
    "                    visited[ind] = True\n",
    "                    parent[ind] = u \n",
    "  \n",
    "        # If we reached sink in BFS starting from source, then return \n",
    "        # true, else false \n",
    "        return True if visited[t] else False\n",
    "              \n",
    "      \n",
    "    # Returns the maximum flow from s to t in the given graph \n",
    "    def FordFulkerson(self, source, sink): \n",
    "  \n",
    "        # This array is filled by BFS and to store path \n",
    "        parent = [-1]*(self.ROW) \n",
    "  \n",
    "        max_flow = 0 # There is no flow initially \n",
    "  \n",
    "        # Augment the flow while there is path from source to sink \n",
    "        while self.BFS(source, sink, parent) : \n",
    "  \n",
    "            # Find minimum residual capacity of the edges along the \n",
    "            # path filled by BFS. Or we can say find the maximum flow \n",
    "            # through the path found. \n",
    "            path_flow = float(\"Inf\") \n",
    "            s = sink \n",
    "            while(s !=  source): \n",
    "                path_flow = min(path_flow, self.graph[parent[s]][s]) \n",
    "                s = parent[s] \n",
    "  \n",
    "            # Add path flow to overall flow \n",
    "            max_flow +=  path_flow \n",
    "  \n",
    "            # update residual capacities of the edges and reverse edges \n",
    "            # along the path \n",
    "            v = sink \n",
    "            while(v !=  source): \n",
    "                u = parent[v] \n",
    "                self.graph[u][v] -= path_flow \n",
    "                v = parent[v] \n",
    "  \n",
    "        return max_flow, self.graph\n",
    "  \n",
    "        \n",
    "\n",
    "def create_graph_from_images(img_path, gamma, fore, back):\n",
    "    I = (Image.open(img_path).convert('L')) # read image\n",
    "\n",
    "    If = I.crop(fore) # take a part of the foreground\n",
    "    Ib = I.crop(back) # take a part of the background\n",
    "    I,If,Ib = np.array(I),np.array(If),np.array(Ib) # convert all the images to arrays to calculation\n",
    "    \n",
    "    hist_if = cv2.calcHist([If],[0],None,[256],[0,256])\n",
    "    hist_ib = cv2.calcHist([Ib],[0],None,[256],[0,256])\n",
    "    \n",
    "    Ifmean = np.argmax(hist_if)\n",
    "    Ibmean = np.argmax(hist_ib)\n",
    "    \n",
    "    Im = I.copy().flatten().astype('int') #Coverting the image array to a vector for ease.\n",
    "    m,n = I.shape[0],I.shape[1] # copy the size\n",
    "    \n",
    "    source_node = m*n\n",
    "    sink_node = m*n+1\n",
    "    \n",
    "    graph = Graph(sink_node)\n",
    "    \n",
    "    # Define the probability with background and foreground\n",
    "    F = np.zeros(I.shape)\n",
    "    B = np.zeros(I.shape)\n",
    "    \n",
    "    for i in range(I.shape[0]): # Defining the Probability function....\n",
    "        for j in range(I.shape[1]):\n",
    "            diff_back = abs(I[i,j] - Ifmean)\n",
    "            diff_fore = abs(I[i,j] - Ibmean)   \n",
    "            den = diff_back + diff_fore\n",
    "            \n",
    "            # Probability of a pixel being foreground\n",
    "            if diff_fore > 0:\n",
    "                F[i,j] = -np.log(diff_fore/den) \n",
    "            else:\n",
    "                F[i,j] = 100\n",
    "            \n",
    "            # Probability of a pixel being background\n",
    "            if diff_back > 0:\n",
    "                B[i,j] = -np.log(diff_back/den) \n",
    "            else:\n",
    "                B[i, j]= 100\n",
    "\n",
    "    F,B = F.flatten(), B.flatten() # convertingb  to column vector for ease\n",
    "        \n",
    "    for i in range(m*n): #checking the 4-neighborhood pixels\n",
    "        ws=(F[i]/(F[i]+B[i])) # source weight\n",
    "        wt=(B[i]/(F[i]+B[i])) # sink weight\n",
    "        graph.add_terminal_edge(i, ws, wt)\n",
    "        \n",
    "        pixels_to_update = [i-1, i+1, i-n, i+n]\n",
    "        \n",
    "        for pixel_to_update in pixels_to_update:\n",
    "            if 0 <= pixel_to_update < m*n:\n",
    "                weight = np.exp(-gamma*((abs(Im[i]-Im[pixel_to_update])**2)))\n",
    "                graph.add_edge(i, pixel_to_update, weight)\n",
    "    \n",
    "    max_flow, res_graph = graph.FordFulkerson(source_node, sink_node)\n",
    "    \n",
    "    print(f'max_flow is {max_flow}')\n",
    "        \n",
    "create_graph_from_images('input1.jpeg', gamma, fore, back)"
   ]
  },
  {
   "cell_type": "code",
   "execution_count": null,
   "metadata": {},
   "outputs": [],
   "source": []
  },
  {
   "cell_type": "code",
   "execution_count": 3,
   "metadata": {},
   "outputs": [],
   "source": [
    "import networkx as nx"
   ]
  },
  {
   "cell_type": "code",
   "execution_count": 10,
   "metadata": {},
   "outputs": [],
   "source": [
    "G = nx.DiGraph()\n",
    "G.add_edge(\"x\", \"a\", capacity=2.0)\n",
    "G.add_edge(\"x\", \"b\", capacity=4.0)\n",
    "G.add_edge(\"a\", \"b\", capacity=3.0)\n",
    "G.add_edge(\"a\", \"y\", capacity=1.0)\n",
    "G.add_edge(\"b\", \"y\", capacity=2.0)\n"
   ]
  },
  {
   "cell_type": "code",
   "execution_count": 34,
   "metadata": {},
   "outputs": [
    {
     "data": {
      "image/png": "[encoded data removed]",
      "text/plain": [
       "<Figure size 432x288 with 1 Axes>"
      ]
     },
     "metadata": {},
     "output_type": "display_data"
    }
   ],
   "source": [
    "nx.draw(G)"
   ]
  },
  {
   "cell_type": "code",
   "execution_count": 32,
   "metadata": {},
   "outputs": [],
   "source": [
    "res_graph = nx.algorithms.flow.boykov_kolmogorov(G, 'x', 'y', 'capacity')"
   ]
  },
  {
   "cell_type": "code",
   "execution_count": 36,
   "metadata": {},
   "outputs": [
    {
     "name": "stdout",
     "output_type": "stream",
     "text": [
      "({'x': None, 'a': 'x', 'b': 'x'}, {'y': None})\n"
     ]
    }
   ],
   "source": [
    "print(res_graph.graph['trees'])"
   ]
  },
  {
   "cell_type": "code",
   "execution_count": 39,
   "metadata": {},
   "outputs": [],
   "source": [
    "source_tree, target_tree = res_graph.graph[\"trees\"]\n",
    "partition = (set(source_tree), set(G) - set(source_tree))"
   ]
  },
  {
   "cell_type": "code",
   "execution_count": 40,
   "metadata": {},
   "outputs": [
    {
     "data": {
      "text/plain": [
       "({'a', 'b', 'x'}, {'y'})"
      ]
     },
     "execution_count": 40,
     "metadata": {},
     "output_type": "execute_result"
    }
   ],
   "source": [
    "partition"
   ]
  }
 ],
 "metadata": {
  "kernelspec": {
   "display_name": "Python 3",
   "language": "python",
   "name": "python3"
  },
  "language_info": {
   "codemirror_mode": {
    "name": "ipython",
    "version": 3
   },
   "file_extension": ".py",
   "mimetype": "text/x-python",
   "name": "python",
   "nbconvert_exporter": "python",
   "pygments_lexer": "ipython3",
   "version": "3.7.3"
  },
  "pycharm": {
   "stem_cell": {
    "cell_type": "raw",
    "metadata": {
     "collapsed": false
    },
    "source": []
   }
  }
 },
 "nbformat": 4,
 "nbformat_minor": 4
}
